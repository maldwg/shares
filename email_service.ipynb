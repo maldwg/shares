{
 "cells": [
  {
   "cell_type": "code",
   "execution_count": 12,
   "metadata": {},
   "outputs": [],
   "source": [
    "import smtplib, ssl\n",
    "from email.message import EmailMessage"
   ]
  },
  {
   "cell_type": "code",
   "execution_count": 13,
   "metadata": {},
   "outputs": [],
   "source": [
    "sender_email = \"fama.shares@gmail.com\"\n",
    "receiver_email = \"maxludwig3@t-online.de\"\n",
    "message = \"\"\"\\\n",
    "Subject: Hi there\n",
    "\n",
    "This message is sent from Python.\"\"\"\n"
   ]
  },
  {
   "cell_type": "code",
   "execution_count": 14,
   "metadata": {},
   "outputs": [
    {
     "name": "stdout",
     "output_type": "stream",
     "text": [
      "Type your password and press enter: www.pornhub.com\n"
     ]
    }
   ],
   "source": [
    "port = 465  # For SSL\n",
    "password = www.pornhub.com\n",
    "\n",
    "# Create a secure SSL context\n",
    "context = ssl.create_default_context()\n",
    "\n",
    "with smtplib.SMTP_SSL(\"smtp.gmail.com\", port, context=context) as server:\n",
    "    server.login(\"fama.shares@gmail.com\", password)\n",
    "    server.sendmail(sender_email, receiver_email, message)"
   ]
  },
  {
   "cell_type": "code",
   "execution_count": 35,
   "metadata": {},
   "outputs": [],
   "source": [
    "def build_email_buy(Kapital, aktien_anzahl_list, aktien_preis_anzahl_empfehlung_list):\n",
    "    aktien_bestand_string = \"\"\n",
    "    for aktie in aktien_anzahl_list:\n",
    "        aktien_bestand_string += aktie[0] + \": \" + str(aktie[1]) + \"\\r\\n\"\n",
    "        \n",
    "    aktien_buy_string = \"\"\n",
    "    for aktie in aktien_preis_anzahl_empfehlung_list:\n",
    "        aktien_buy_string += \"-----\\n\"\n",
    "        aktien_buy_string += aktie[0] + \"\\n\"\n",
    "        aktien_buy_string += \"Aktueller Wert: \" + str(aktie[1]) + \"€\\r\\n\"\n",
    "        aktien_buy_string += \"Empfohlene Anzahl: \" + str(aktie[2]) + \"€\\r\\n\"\n",
    "        aktien_buy_string += \"-----\\r\\n\"\n",
    "        \n",
    "    message = \"\"\"\\\n",
    "Subject: FAMA.SHARES - Neue Kaufempfehlung\n",
    "    \n",
    "Guten Tag,\n",
    "    \n",
    "Es wird empfohlen folgende Aktie(n) zu kaufen:\n",
    "{aktien_buy_string}\n",
    "    \n",
    "Falls Sie sich für einen Kauf entscheiden, schicken Sie uns bitte die beigefügt CSV-Datei ausgefüllt zurück.\n",
    "    \n",
    "PS:\n",
    "Ihr aktuelles Kapital liegt bei {Kapital}€\n",
    "    \n",
    "Hier ihre aktuellen Aktienbestände:\n",
    "{aktien_bestand_string}\"\"\".format(aktien_buy_string=aktien_buy_string, Kapital=Kapital, aktien_bestand_string=aktien_bestand_string)\n",
    "    \n",
    "    return message"
   ]
  },
  {
   "cell_type": "code",
   "execution_count": 38,
   "metadata": {},
   "outputs": [],
   "source": [
    "def build_email_sell(Kapital, aktien_anzahl_list, aktien_preis_anzahl_empfehlung_list):\n",
    "    aktien_bestand_string = \"\"\n",
    "    for aktie in aktien_anzahl_list:\n",
    "        aktien_bestand_string += aktie[0] + \": \" + str(aktie[1]) + \"\\r\\n\"\n",
    "        \n",
    "    aktien_buy_string = \"\"\n",
    "    for aktie in aktien_preis_anzahl_empfehlung_list:\n",
    "        aktien_buy_string += \"-----\\n\"\n",
    "        aktien_buy_string += aktie[0] + \"\\n\"\n",
    "        aktien_buy_string += \"Aktueller Wert: \" + str(aktie[1]) + \"€\\r\\n\"\n",
    "        aktien_buy_string += \"Empfohlene Anzahl: \" + str(aktie[2]) + \"€\\r\\n\"\n",
    "        aktien_buy_string += \"-----\\r\\n\"\n",
    "        \n",
    "    message = \"\"\"\\\n",
    "Subject: FAMA.SHARES - Neue Verkaufsempfehlung\n",
    "    \n",
    "Guten Tag,\n",
    "    \n",
    "Es wird empfohlen folgende Aktie(n) zu verkaufen:\n",
    "{aktien_buy_string}\n",
    "    \n",
    "Falls Sie sich für einen Verkauf entscheiden, schicken Sie uns bitte die beigefügt CSV-Datei ausgefüllt zurück.\n",
    "    \n",
    "PS:\n",
    "Ihr aktuelles Kapital liegt bei {Kapital}€\n",
    "    \n",
    "Hier ihre aktuellen Aktienbestände:\n",
    "{aktien_bestand_string}\"\"\".format(aktien_buy_string=aktien_buy_string, Kapital=Kapital, aktien_bestand_string=aktien_bestand_string)\n",
    "    \n",
    "    return message"
   ]
  },
  {
   "cell_type": "code",
   "execution_count": 39,
   "metadata": {},
   "outputs": [
    {
     "name": "stdout",
     "output_type": "stream",
     "text": [
      "Subject: FAMA.SHARES - Neue Verkaufsempfehlung\n",
      "    \n",
      "Guten Tag,\n",
      "    \n",
      "Es wird empfohlen folgende Aktie(n) zu verkaufen:\n",
      "-----\n",
      "aktie1\n",
      "Aktueller Wert: 8.1€\r\n",
      "Empfohlene Anzahl: 3€\r\n",
      "-----\r\n",
      "-----\n",
      "aktie2\n",
      "Aktueller Wert: 7.8€\r\n",
      "Empfohlene Anzahl: 5€\r\n",
      "-----\r\n",
      "-----\n",
      "aktie3\n",
      "Aktueller Wert: 5.9€\r\n",
      "Empfohlene Anzahl: 13€\r\n",
      "-----\r\n",
      "\n",
      "    \n",
      "Falls Sie sich für einen Verkauf entscheiden, schicken Sie uns bitte die beigefügt CSV-Datei ausgefüllt zurück.\n",
      "    \n",
      "PS:\n",
      "Ihr aktuelles Kapital liegt bei 10300.54€\n",
      "    \n",
      "Hier ihre aktuellen Aktienbestände:\n",
      "aktie1: 3\r\n",
      "aktie2: 1\r\n",
      "aktie3: 5\r\n",
      "\n"
     ]
    }
   ],
   "source": [
    "Kapital = 10300.54\n",
    "aktien_preis_anzahl_empfehlung_list = [[\"aktie1\", 8.1, 3], [\"aktie2\", 7.8, 5], [\"aktie3\", 5.9, 13]]\n",
    "aktien_anzahl_list = [[\"aktie1\", 3], [\"aktie2\", 1], [\"aktie3\", 5]]\n",
    "print(build_email_sell(Kapital, aktien_anzahl_list, aktien_preis_anzahl_empfehlung_list))"
   ]
  },
  {
   "cell_type": "code",
   "execution_count": 7,
   "metadata": {},
   "outputs": [
    {
     "name": "stdout",
     "output_type": "stream",
     "text": [
      "aktie1: 8.1\n",
      "aktie2: 7.8\n",
      "aktie3: 5.9\n",
      "\n"
     ]
    }
   ],
   "source": []
  },
  {
   "cell_type": "code",
   "execution_count": null,
   "metadata": {},
   "outputs": [],
   "source": []
  }
 ],
 "metadata": {
  "kernelspec": {
   "display_name": "Python 3",
   "language": "python",
   "name": "python3"
  },
  "language_info": {
   "codemirror_mode": {
    "name": "ipython",
    "version": 3
   },
   "file_extension": ".py",
   "mimetype": "text/x-python",
   "name": "python",
   "nbconvert_exporter": "python",
   "pygments_lexer": "ipython3",
   "version": "3.7.4"
  }
 },
 "nbformat": 4,
 "nbformat_minor": 2
}
