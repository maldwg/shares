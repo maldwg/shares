{
 "cells": [
  {
   "cell_type": "code",
   "execution_count": 64,
   "metadata": {},
   "outputs": [],
   "source": [
    "import smtplib, ssl, email, mimetypes\n",
    "from email.message import EmailMessage\n",
    "from email import encoders\n",
    "from email.mime.base import MIMEBase\n",
    "from email.mime.multipart import MIMEMultipart\n",
    "from email.mime.text import MIMEText\n",
    "import csv"
   ]
  },
  {
   "cell_type": "code",
   "execution_count": 52,
   "metadata": {},
   "outputs": [],
   "source": [
    "sender_email = \"fama.shares@gmail.com\"\n",
    "#receiver_email = \"maxludwig3@t-online.de\"\n",
    "port = 465\n",
    "password = \"www.pornhub.com\""
   ]
  },
  {
   "cell_type": "code",
   "execution_count": 78,
   "metadata": {},
   "outputs": [],
   "source": [
    "Kapital = 10300.54\n",
    "receiver_email = \"brandmueller.fabian@gmail.com\"\n",
    "aktien_preis_anzahl_empfehlung_list = [[\"aktie1\", 8.1, 3], [\"aktie2\", 7.8, 5], [\"aktie3\", 5.9, 13]]\n",
    "aktien_anzahl_list = [[\"aktie1\", 3], [\"aktie2\", 1], [\"aktie3\", 5]]\n",
    "\n",
    "send_email_sell(receiver_email, Kapital, aktien_anzahl_list, aktien_preis_anzahl_empfehlung_list)"
   ]
  },
  {
   "cell_type": "code",
   "execution_count": 71,
   "metadata": {},
   "outputs": [],
   "source": [
    "def send_email_sell(receiver_email, Kapital, aktien_anzahl_list, aktien_preis_anzahl_empfehlung_list):\n",
    "    message = build_email_buy(Kapital, aktien_anzahl_list, aktien_preis_anzahl_empfehlung_list)\n",
    "    write_csv(aktien_preis_anzahl_empfehlung_list)\n",
    "    \n",
    "    msg = MIMEMultipart()\n",
    "    msg[\"From\"] = sender_email\n",
    "    msg[\"To\"] = receiver_email\n",
    "    msg[\"Subject\"] = \"FAMA.SHARES - Neue Verkaufsempfehlung\"\n",
    "    msg.attach(MIMEText(message, \"plain\"))\n",
    "    msg = attach_csv(msg)\n",
    "    msg = msg.as_string()\n",
    "    \n",
    "    context = ssl.create_default_context()\n",
    "    with smtplib.SMTP_SSL(\"smtp.gmail.com\", port, context=context) as server:\n",
    "        server.login(sender_email, password)\n",
    "        server.sendmail(sender_email, receiver_email, message)"
   ]
  },
  {
   "cell_type": "code",
   "execution_count": 62,
   "metadata": {},
   "outputs": [],
   "source": [
    "def attach_csv(msg):\n",
    "    fileToSend = \"aktien.csv\"\n",
    "    \n",
    "    ctype, encoding = mimetypes.guess_type(fileToSend)\n",
    "    if ctype is None or encoding is not None:\n",
    "        ctype = \"application/octet-stream\"\n",
    "\n",
    "    maintype, subtype = ctype.split(\"/\", 1)\n",
    "\n",
    "    if maintype == \"text\":\n",
    "        fp = open(fileToSend)\n",
    "        # Note: we should handle calculating the charset\n",
    "        attachment = MIMEText(fp.read(), _subtype=subtype)\n",
    "        fp.close()\n",
    "    elif maintype == \"image\":\n",
    "        fp = open(fileToSend, \"rb\")\n",
    "        attachment = MIMEImage(fp.read(), _subtype=subtype)\n",
    "        fp.close()\n",
    "    elif maintype == \"audio\":\n",
    "        fp = open(fileToSend, \"rb\")\n",
    "        attachment = MIMEAudio(fp.read(), _subtype=subtype)\n",
    "        fp.close()\n",
    "    else:\n",
    "        fp = open(fileToSend, \"rb\")\n",
    "        attachment = MIMEBase(maintype, subtype)\n",
    "        attachment.set_payload(fp.read())\n",
    "        fp.close()\n",
    "        encoders.encode_base64(attachment)\n",
    "    attachment.add_header(\"Content-Disposition\", \"attachment\", filename=fileToSend)\n",
    "    msg.attach(attachment)\n",
    "    \n",
    "    \n",
    "    \n",
    "    \n",
    "    \n",
    "    \n",
    "    \n",
    "    \n",
    "    \n",
    "    \n",
    "    \n",
    "    \n",
    "    #with open(filename, \"rb\") as attachment:\n",
    "    #    part = MIMEText(\"application\", \"octet-stream\")\n",
    "    #    part.set_payload(attachment.read())\n",
    "#\n",
    "#    encoders.encode_base64(part)\n",
    " #   part.add_header(\n",
    "  #      \"Content-Disposition\",\n",
    "  #      f\"attachment; filename= {filename}\",\n",
    "  #  )\n",
    "  #  msg.attach(part)\n",
    "    return msg"
   ]
  },
  {
   "cell_type": "code",
   "execution_count": 76,
   "metadata": {},
   "outputs": [],
   "source": [
    "def build_email_buy(Kapital, aktien_anzahl_list, aktien_preis_anzahl_empfehlung_list):\n",
    "    aktien_bestand_string = \"\"\n",
    "    for aktie in aktien_anzahl_list:\n",
    "        aktien_bestand_string += aktie[0] + \": \" + str(aktie[1]) + \"\\r\\n\"\n",
    "        \n",
    "    aktien_buy_string = \"\"\n",
    "    for aktie in aktien_preis_anzahl_empfehlung_list:\n",
    "        aktien_buy_string += \"-----\\n\"\n",
    "        aktien_buy_string += aktie[0] + \"\\n\"\n",
    "        aktien_buy_string += \"Aktueller Wert: \" + str(aktie[1]) + \" Euro\\r\\n\"\n",
    "        aktien_buy_string += \"Empfohlene Anzahl: \" + str(aktie[2]) + \" Euro\\r\\n\"\n",
    "        aktien_buy_string += \"-----\\r\\n\"\n",
    "        \n",
    "    message = \"\"\"\\\n",
    "Subject: FAMA.SHARES - Neue Kaufempfehlung\n",
    "    \n",
    "Guten Tag,\n",
    "    \n",
    "Es wird empfohlen folgende Aktie(n) zu kaufen:\n",
    "{aktien_buy_string}\n",
    "    \n",
    "Falls Sie sich fuer einen Kauf entscheiden, schicken Sie uns bitte die beigefuegt CSV-Datei ausgefuellt zurueck.\n",
    "    \n",
    "PS:\n",
    "Ihr aktuelles Kapital liegt bei {Kapital} Euro\n",
    "    \n",
    "Hier ihre aktuellen Aktienbestaende:\n",
    "{aktien_bestand_string}\"\"\".format(aktien_buy_string=aktien_buy_string, Kapital=Kapital, aktien_bestand_string=aktien_bestand_string)\n",
    "    \n",
    "    return message"
   ]
  },
  {
   "cell_type": "code",
   "execution_count": 77,
   "metadata": {},
   "outputs": [],
   "source": [
    "def build_email_sell(Kapital, aktien_anzahl_list, aktien_preis_anzahl_empfehlung_list):\n",
    "    aktien_bestand_string = \"\"\n",
    "    for aktie in aktien_anzahl_list:\n",
    "        aktien_bestand_string += aktie[0] + \": \" + str(aktie[1]) + \"\\r\\n\"\n",
    "        \n",
    "    aktien_buy_string = \"\"\n",
    "    for aktie in aktien_preis_anzahl_empfehlung_list:\n",
    "        aktien_buy_string += \"-----\\n\"\n",
    "        aktien_buy_string += aktie[0] + \"\\n\"\n",
    "        aktien_buy_string += \"Aktueller Wert: \" + str(aktie[1]) + \" Euro\\r\\n\"\n",
    "        aktien_buy_string += \"Empfohlene Anzahl: \" + str(aktie[2]) + \" Euro\\r\\n\"\n",
    "        aktien_buy_string += \"-----\\r\\n\"\n",
    "        \n",
    "    message = \"\"\"\\\n",
    "Subject: FAMA.SHARES - Neue Verkaufsempfehlung\n",
    "    \n",
    "Guten Tag,\n",
    "    \n",
    "Es wird empfohlen folgende Aktie(n) zu verkaufen:\n",
    "{aktien_buy_string}\n",
    "    \n",
    "Falls Sie sich fuer einen Verkauf entscheiden, schicken Sie uns bitte die beigefuegte CSV-Datei ausgefuellt zurueck.\n",
    "    \n",
    "PS:\n",
    "Ihr aktuelles Kapital liegt bei {Kapital} Euro\n",
    "    \n",
    "Hier ihre aktuellen Aktienbestaende:\n",
    "{aktien_bestand_string}\"\"\".format(aktien_buy_string=aktien_buy_string, Kapital=Kapital, aktien_bestand_string=aktien_bestand_string)\n",
    "    \n",
    "    return message"
   ]
  },
  {
   "cell_type": "code",
   "execution_count": 19,
   "metadata": {},
   "outputs": [],
   "source": [
    "def write_csv(aktien_preis_anzahl_empfehlung_list):\n",
    "    with open('aktien.csv', mode='w') as csv_file:\n",
    "        aktien_writer = csv.writer(csv_file, delimiter=',', quotechar='\"', quoting=csv.QUOTE_MINIMAL)\n",
    "        aktien_writer.writerow(['Aktie', 'Wert', 'Anzahl'])\n",
    "        for aktie in aktien_preis_anzahl_empfehlung_list:\n",
    "            aktien_writer.writerow([aktie[0], '', ''])\n",
    "        \n"
   ]
  },
  {
   "cell_type": "code",
   "execution_count": 42,
   "metadata": {},
   "outputs": [],
   "source": [
    "def read_csv():\n",
    "    aktien_preis_anzahl_list= []\n",
    "    with open('aktien.csv') as csv_file:\n",
    "        csv_reader = csv.reader(csv_file, delimiter=',')\n",
    "        line_count = 0\n",
    "        for row in csv_reader:\n",
    "            if line_count > 0 and row != []:\n",
    "                aktien_preis_anzahl_list.append(row)\n",
    "            line_count += 1\n",
    "    return aktien_preis_anzahl_list\n",
    "    "
   ]
  },
  {
   "cell_type": "code",
   "execution_count": 43,
   "metadata": {},
   "outputs": [
    {
     "name": "stdout",
     "output_type": "stream",
     "text": [
      "[['aktie1', '', ''], ['aktie2', '', ''], ['aktie3', '', '']]\n"
     ]
    }
   ],
   "source": [
    "#write_csv(aktien_preis_anzahl_empfehlung_list)\n",
    "print(read_csv())"
   ]
  },
  {
   "cell_type": "code",
   "execution_count": 9,
   "metadata": {},
   "outputs": [
    {
     "ename": "NameError",
     "evalue": "name 'build_email_sell' is not defined",
     "output_type": "error",
     "traceback": [
      "\u001b[1;31m---------------------------------------------------------------------------\u001b[0m",
      "\u001b[1;31mNameError\u001b[0m                                 Traceback (most recent call last)",
      "\u001b[1;32m<ipython-input-9-34ca556820d4>\u001b[0m in \u001b[0;36m<module>\u001b[1;34m\u001b[0m\n\u001b[0;32m      2\u001b[0m \u001b[0maktien_preis_anzahl_empfehlung_list\u001b[0m \u001b[1;33m=\u001b[0m \u001b[1;33m[\u001b[0m\u001b[1;33m[\u001b[0m\u001b[1;34m\"aktie1\"\u001b[0m\u001b[1;33m,\u001b[0m \u001b[1;36m8.1\u001b[0m\u001b[1;33m,\u001b[0m \u001b[1;36m3\u001b[0m\u001b[1;33m]\u001b[0m\u001b[1;33m,\u001b[0m \u001b[1;33m[\u001b[0m\u001b[1;34m\"aktie2\"\u001b[0m\u001b[1;33m,\u001b[0m \u001b[1;36m7.8\u001b[0m\u001b[1;33m,\u001b[0m \u001b[1;36m5\u001b[0m\u001b[1;33m]\u001b[0m\u001b[1;33m,\u001b[0m \u001b[1;33m[\u001b[0m\u001b[1;34m\"aktie3\"\u001b[0m\u001b[1;33m,\u001b[0m \u001b[1;36m5.9\u001b[0m\u001b[1;33m,\u001b[0m \u001b[1;36m13\u001b[0m\u001b[1;33m]\u001b[0m\u001b[1;33m]\u001b[0m\u001b[1;33m\u001b[0m\u001b[1;33m\u001b[0m\u001b[0m\n\u001b[0;32m      3\u001b[0m \u001b[0maktien_anzahl_list\u001b[0m \u001b[1;33m=\u001b[0m \u001b[1;33m[\u001b[0m\u001b[1;33m[\u001b[0m\u001b[1;34m\"aktie1\"\u001b[0m\u001b[1;33m,\u001b[0m \u001b[1;36m3\u001b[0m\u001b[1;33m]\u001b[0m\u001b[1;33m,\u001b[0m \u001b[1;33m[\u001b[0m\u001b[1;34m\"aktie2\"\u001b[0m\u001b[1;33m,\u001b[0m \u001b[1;36m1\u001b[0m\u001b[1;33m]\u001b[0m\u001b[1;33m,\u001b[0m \u001b[1;33m[\u001b[0m\u001b[1;34m\"aktie3\"\u001b[0m\u001b[1;33m,\u001b[0m \u001b[1;36m5\u001b[0m\u001b[1;33m]\u001b[0m\u001b[1;33m]\u001b[0m\u001b[1;33m\u001b[0m\u001b[1;33m\u001b[0m\u001b[0m\n\u001b[1;32m----> 4\u001b[1;33m \u001b[0mprint\u001b[0m\u001b[1;33m(\u001b[0m\u001b[0mbuild_email_sell\u001b[0m\u001b[1;33m(\u001b[0m\u001b[0mKapital\u001b[0m\u001b[1;33m,\u001b[0m \u001b[0maktien_anzahl_list\u001b[0m\u001b[1;33m,\u001b[0m \u001b[0maktien_preis_anzahl_empfehlung_list\u001b[0m\u001b[1;33m)\u001b[0m\u001b[1;33m)\u001b[0m\u001b[1;33m\u001b[0m\u001b[1;33m\u001b[0m\u001b[0m\n\u001b[0m",
      "\u001b[1;31mNameError\u001b[0m: name 'build_email_sell' is not defined"
     ]
    }
   ],
   "source": [
    "Kapital = 10300.54\n",
    "aktien_preis_anzahl_empfehlung_list = [[\"aktie1\", 8.1, 3], [\"aktie2\", 7.8, 5], [\"aktie3\", 5.9, 13]]\n",
    "aktien_anzahl_list = [[\"aktie1\", 3], [\"aktie2\", 1], [\"aktie3\", 5]]\n",
    "print(build_email_sell(Kapital, aktien_anzahl_list, aktien_preis_anzahl_empfehlung_list))"
   ]
  },
  {
   "cell_type": "code",
   "execution_count": 7,
   "metadata": {},
   "outputs": [
    {
     "name": "stdout",
     "output_type": "stream",
     "text": [
      "aktie1: 8.1\n",
      "aktie2: 7.8\n",
      "aktie3: 5.9\n",
      "\n"
     ]
    }
   ],
   "source": []
  },
  {
   "cell_type": "code",
   "execution_count": null,
   "metadata": {},
   "outputs": [],
   "source": []
  }
 ],
 "metadata": {
  "kernelspec": {
   "display_name": "Python 3",
   "language": "python",
   "name": "python3"
  },
  "language_info": {
   "codemirror_mode": {
    "name": "ipython",
    "version": 3
   },
   "file_extension": ".py",
   "mimetype": "text/x-python",
   "name": "python",
   "nbconvert_exporter": "python",
   "pygments_lexer": "ipython3",
   "version": "3.7.4"
  }
 },
 "nbformat": 4,
 "nbformat_minor": 2
}
