{
 "cells": [
  {
   "cell_type": "code",
   "execution_count": 2,
   "metadata": {},
   "outputs": [],
   "source": [
    "import pandas as pd\n",
    "import numpy as np\n",
    "from technical_indicators_lib import *\n",
    "import yfinance as yf\n",
    "import math\n",
    "import matplotlib.pyplot as plt\n",
    "from ipynb.fs.full.williamsR import *\n",
    "from ipynb.fs.full.Database import *\n",
    "from ipynb.fs.full.analyzing_algorithms import *\n",
    "from ipynb.fs.full.email_service import *\n",
    "from ipynb.fs.full.Shares import *\n",
    "from operator import itemgetter"
   ]
  },
  {
   "cell_type": "code",
   "execution_count": 3,
   "metadata": {},
   "outputs": [
    {
     "name": "stdout",
     "output_type": "stream",
     "text": [
      "[b'15', b'16']\n",
      "[['maxludwig3@t-online.de', {'buy': [['Carrefour', '16.95', '10']], 'sell': []}], ['maxludwig3@t-online.de', {'buy': [['BMW', '90.06', '2']], 'sell': []}]]\n",
      "maxludwig3@t-online.de\n"
     ]
    },
    {
     "ename": "IndexError",
     "evalue": "list index out of range",
     "output_type": "error",
     "traceback": [
      "\u001b[1;31m---------------------------------------------------------------------------\u001b[0m",
      "\u001b[1;31mIndexError\u001b[0m                                Traceback (most recent call last)",
      "\u001b[1;32m<ipython-input-3-4dbeb880fa1e>\u001b[0m in \u001b[0;36m<module>\u001b[1;34m\u001b[0m\n\u001b[0;32m     11\u001b[0m             \u001b[0mprice\u001b[0m\u001b[1;33m=\u001b[0m\u001b[0mbuy\u001b[0m\u001b[1;33m[\u001b[0m\u001b[1;36m1\u001b[0m\u001b[1;33m]\u001b[0m\u001b[1;33m\u001b[0m\u001b[1;33m\u001b[0m\u001b[0m\n\u001b[0;32m     12\u001b[0m             \u001b[0mammount\u001b[0m\u001b[1;33m=\u001b[0m\u001b[0mbuy\u001b[0m\u001b[1;33m[\u001b[0m\u001b[1;36m2\u001b[0m\u001b[1;33m]\u001b[0m\u001b[1;33m\u001b[0m\u001b[1;33m\u001b[0m\u001b[0m\n\u001b[1;32m---> 13\u001b[1;33m             \u001b[0mcosts\u001b[0m\u001b[1;33m=\u001b[0m\u001b[0mbuy\u001b[0m\u001b[1;33m[\u001b[0m\u001b[1;36m3\u001b[0m\u001b[1;33m]\u001b[0m\u001b[1;33m\u001b[0m\u001b[1;33m\u001b[0m\u001b[0m\n\u001b[0m\u001b[0;32m     14\u001b[0m             \u001b[0mprint\u001b[0m\u001b[1;33m(\u001b[0m\u001b[0mtype\u001b[0m\u001b[1;33m(\u001b[0m\u001b[0mprice\u001b[0m\u001b[1;33m)\u001b[0m\u001b[1;33m)\u001b[0m\u001b[1;33m\u001b[0m\u001b[1;33m\u001b[0m\u001b[0m\n\u001b[0;32m     15\u001b[0m             \u001b[0mprint\u001b[0m\u001b[1;33m(\u001b[0m\u001b[0mtype\u001b[0m\u001b[1;33m(\u001b[0m\u001b[0mstock\u001b[0m\u001b[1;33m)\u001b[0m\u001b[1;33m)\u001b[0m\u001b[1;33m\u001b[0m\u001b[1;33m\u001b[0m\u001b[0m\n",
      "\u001b[1;31mIndexError\u001b[0m: list index out of range"
     ]
    }
   ],
   "source": [
    "# receive mails and trade\n",
    "# value like [mludwig3@...,{buy:[[]], sell[[]]}]\n",
    "portfolio_trades=receive_emails()\n",
    "print(portfolio_trades) \n",
    "if portfolio_trades:\n",
    "    for trades in portfolio_trades:\n",
    "        print(trades[0])\n",
    "        portfolio=get_portfolio_by_mail(trades[0])\n",
    "        for buy in trades[1][\"buy\"]:\n",
    "            stock=buy[0]\n",
    "            price=buy[1]\n",
    "            ammount=buy[2]\n",
    "            costs=buy[3]\n",
    "            print(type(price))\n",
    "            print(type(stock))\n",
    "            print(type(ammount))\n",
    "            buy_stock(portfolio, stock, price, ammount, costs)\n",
    "        for sell in trades[1][\"sell\"]:\n",
    "            stock=sell[0]\n",
    "            price=sell[1]\n",
    "            ammount=sell[2]\n",
    "            costs=sell[3]\n",
    "            sell_stock(portfolio, stock, price, ammount, costs)\n",
    "\n",
    "# get all portfolios\n",
    "all_portfolio_names = get_all_portfolios()\n",
    "# analyze all shares\n",
    "all_stocks, all_names = initialize_stocks(\"alles\", \"50d\")\n",
    "# first five numbers for trend inciators, last numbers for action indicators\n",
    "permutation = [1, 1, 1, 1, 2, 1, 3, 2, 1]\n",
    "summe = sum(permutation[5:])\n",
    "combine_indicators(permutation, all_stocks, all_names)\n",
    "\n",
    "# analyze every other portfolio\n",
    "for portfolio in all_portfolio_names:\n",
    "    print(portfolio)\n",
    "    if portfolio == \"alles\" or  portfolio == \"Test-Set\" or  portfolio == \"Test-Set2\":\n",
    "        continue\n",
    "    else:\n",
    "        # get wanted stocks \n",
    "        portfolio_stocks, portfolio_names = get_portfolio_data(portfolio, all_stocks, all_names)\n",
    "        # get suggestions\n",
    "        buy_suggestions, sell_suggestions, portfolio_value, Startkapital = evaluate_day(summe,portfolio, portfolio_stocks, portfolio_names)\n",
    "        print(buy_suggestions)\n",
    "        print(sell_suggestions)\n",
    "        print(portfolio_value)\n",
    "        print(Startkapital)\n",
    "    \n",
    "        # get email from portfolio\n",
    "        mail=get_email(portfolio)\n",
    "        kapital = get_kapital(portfolio)\n",
    "        # get stocks_anzahl\n",
    "        name_anzahl_preis = []\n",
    "        for name in portfolio_names:\n",
    "            anzahl, preis = get_ammount_and_price_by_name(portfolio, name)\n",
    "            name_anzahl_preis.append((name, anzahl, preis))\n",
    "        # call email service\n",
    "        print(\"----------------------------------------------\")\n",
    "        print(mail)\n",
    "        print(kapital)\n",
    "        print(name_anzahl_preis)\n",
    "        print(sell_suggestions)\n",
    "        print(buy_suggestions)\n",
    "        print(Startkapital)\n",
    "        print(portfolio_value)\n",
    "        send_email_sell(mail, kapital, name_anzahl_preis, sell_suggestions, Startkapital, portfolio_value)\n",
    "        send_email_buy(mail, kapital, name_anzahl_preis, buy_suggestions, Startkapital, portfolio_value)\n",
    "    \n",
    "    \n"
   ]
  },
  {
   "cell_type": "code",
   "execution_count": null,
   "metadata": {},
   "outputs": [],
   "source": []
  }
 ],
 "metadata": {
  "kernelspec": {
   "display_name": "Python 3",
   "language": "python",
   "name": "python3"
  },
  "language_info": {
   "codemirror_mode": {
    "name": "ipython",
    "version": 3
   },
   "file_extension": ".py",
   "mimetype": "text/x-python",
   "name": "python",
   "nbconvert_exporter": "python",
   "pygments_lexer": "ipython3",
   "version": "3.6.10"
  }
 },
 "nbformat": 4,
 "nbformat_minor": 4
}
